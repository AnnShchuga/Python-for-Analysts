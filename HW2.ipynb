{
  "metadata": {
    "language_info": {
      "name": ""
    },
    "kernelspec": {
      "name": "python",
      "display_name": "Python (Pyodide)",
      "language": "python"
    }
  },
  "nbformat_minor": 4,
  "nbformat": 4,
  "cells": [
    {
      "cell_type": "markdown",
      "source": "Условие 1: 1 задача\nСкачать данные по ссылке https://www.kaggle.com/datasets/shivachandel/kc-house-data\nСчитать данные с помощью pandas\nВывести на экран первые 5 строк\nПосмотреть на описание признаков и на их содержание\n\nУсловие 2: 2 задача\nПроведите первичный анализ данных\nИзучите типы данных\nНайдите количество пропущенных ячеек в данных\nПосчитайте основные статистики по всем признакам и поизучайте их\nПишите выводы\n\nУсловие 3: 3 задача\nОтветьте на несколько вопросов\n3.1 В каком диапазоне изменяются стоимости недвижимости?\n3.2 Какую долю в среднем занимают жилая площадь от всей площади по всем домам?\n3.3 Как много домов с разными этажами в данных?\n3.4 Насколько хорошие состояния у домов в данных?\n3.5 Найдите года, когда построили первый дом, когда построили последний дом в данных?\n\nУсловие 4: 4 задача\nОтветьте на несколько вопросов\n4.1 Сколько в среднем стоят дома, у которых 2 спальни?\n4.2 Какая в среднем общая площадь домов, у которых стоимость больше 600 000?\n4.3 Как много домов коснулся ремонт?\n4.4 Насколько в среднем стоимость домов с оценкой grade домов выше 10 отличается от стоимости домов с оценкой grade меньше 4?\n\nУсловие 5: 5 задача\nОтветьте на несколько вопросов\n5.1 Выберите дом клиенту\nКлиент хочет дом с видом на набережную, как минимум с тремя ванными и с подвалом. Сколько вариантов есть у клиента?\n5.2 Выберите дом клиенту\nКлиент хочет дом либо с очень красивым видом из окна, либо с видом на набережную, в очень хорошем состоянии и год постройки не меньше 1980 года. В какой ценовом диапазоне будут дома?\n5.3 Выберите дом клиенту\nКлиент хочет дом без подвала, с двумя этажами, стоимостью до 150000. Какая оценка по состоянию у таких домов в среднем?",
      "metadata": {}
    },
    {
      "cell_type": "code",
      "source": "import pandas as pd",
      "metadata": {
        "trusted": true
      },
      "execution_count": null,
      "outputs": []
    },
    {
      "cell_type": "code",
      "source": "df = pd.read_csv('kc-house-data.csv')",
      "metadata": {
        "trusted": true
      },
      "execution_count": null,
      "outputs": []
    },
    {
      "cell_type": "code",
      "source": "df",
      "metadata": {
        "trusted": true
      },
      "execution_count": null,
      "outputs": []
    },
    {
      "cell_type": "code",
      "source": "df.head()",
      "metadata": {},
      "execution_count": null,
      "outputs": []
    },
    {
      "cell_type": "code",
      "source": "df.info()",
      "metadata": {
        "trusted": true
      },
      "execution_count": null,
      "outputs": []
    },
    {
      "cell_type": "code",
      "source": "df.describe()",
      "metadata": {
        "trusted": true
      },
      "execution_count": null,
      "outputs": []
    },
    {
      "cell_type": "markdown",
      "source": "Условие 3: 3 задача\nОтветьте на несколько вопросов\n3.1 В каком диапазоне изменяются стоимости недвижимости?\n3.2 Какую долю в среднем занимают жилая площадь от всей площади по всем домам?\n3.3 Как много домов с разными этажами в данных?\n3.4 Насколько хорошие состояния у домов в данных?\n3.5 Найдите года, когда построили первый дом, когда построили последний дом в данных?",
      "metadata": {}
    },
    {
      "cell_type": "code",
      "source": "df['price'].min(), df['price'].max()",
      "metadata": {},
      "execution_count": null,
      "outputs": []
    },
    {
      "cell_type": "code",
      "source": "df['sqft_living'].mean()/df['sqft_lot'].mean() * 100",
      "metadata": {
        "trusted": true
      },
      "execution_count": null,
      "outputs": []
    },
    {
      "cell_type": "code",
      "source": "df['floors'].value_counts()",
      "metadata": {},
      "execution_count": null,
      "outputs": []
    },
    {
      "cell_type": "code",
      "source": "df['condition'].value_counts()",
      "metadata": {},
      "execution_count": null,
      "outputs": []
    },
    {
      "cell_type": "code",
      "source": "df['yr_built'].min(), df['yr_built'].max()",
      "metadata": {},
      "execution_count": null,
      "outputs": []
    },
    {
      "cell_type": "markdown",
      "source": "Условие 4: 4 задача\nОтветьте на несколько вопросов\n4.1 Сколько в среднем стоят дома, у которых 2 спальни?\n4.2 Какая в среднем общая площадь домов, у которых стоимость больше 600 000?\n4.3 Как много домов коснулся ремонт?\n4.4 Насколько в среднем стоимость домов с оценкой grade домов выше 10 отличается от стоимости домов с оценкой grade меньше 4?",
      "metadata": {}
    },
    {
      "cell_type": "code",
      "source": "df[df['bedrooms'] ** 2]['price'].mean()",
      "metadata": {},
      "execution_count": null,
      "outputs": []
    },
    {
      "cell_type": "code",
      "source": "df[df['price'] > 600000]['sqft_lot'].mean()",
      "metadata": {},
      "execution_count": null,
      "outputs": []
    },
    {
      "cell_type": "code",
      "source": "df[(df['yr_rnovated'] != 0)].shape[0]",
      "metadata": {},
      "execution_count": null,
      "outputs": []
    },
    {
      "cell_type": "code",
      "source": "price_10 = df[df['grade'] > 10]['price'].mean()\nprice_10",
      "metadata": {},
      "execution_count": null,
      "outputs": []
    },
    {
      "cell_type": "code",
      "source": "price_4 = df[df['grade'] < 4]['price'].mean()\nprice_4",
      "metadata": {},
      "execution_count": null,
      "outputs": []
    },
    {
      "cell_type": "code",
      "source": "price_10 - price_4",
      "metadata": {},
      "execution_count": null,
      "outputs": []
    },
    {
      "cell_type": "markdown",
      "source": "Условие 5: 5 задача\nОтветьте на несколько вопросов\n5.1 Выберите дом клиенту\nКлиент хочет дом с видом на набережную, как минимум с тремя ванными и с подвалом. Сколько вариантов есть у клиента?\n5.2 Выберите дом клиенту\nКлиент хочет дом либо с очень красивым видом из окна, либо с видом на набережную, в очень хорошем состоянии и год постройки не меньше 1980 года. В какой ценовом диапазоне будут дома?\n5.3 Выберите дом клиенту\nКлиент хочет дом без подвала, с двумя этажами, стоимостью до 150000. Какая оценка по состоянию у таких домов в среднем?",
      "metadata": {}
    },
    {
      "cell_type": "code",
      "source": "df[(df['waterfront'] == 1) & (df['bathrooms'] == 1) & (df['sqft_basement'] == 1)].shape[0]",
      "metadata": {},
      "execution_count": null,
      "outputs": []
    },
    {
      "cell_type": "code",
      "source": "benchmark = (df['view'] == 4) | (df['waterfront'] == 1) & (df['condition'] == 5) & (df['yr_built'] >= 1980)",
      "metadata": {},
      "execution_count": null,
      "outputs": []
    },
    {
      "cell_type": "code",
      "source": "client_choice = df[benchmark]",
      "metadata": {},
      "execution_count": null,
      "outputs": []
    },
    {
      "cell_type": "code",
      "source": "client_choice",
      "metadata": {},
      "execution_count": null,
      "outputs": []
    },
    {
      "cell_type": "code",
      "source": "client_choice['price'].min(), client_choice['price'].max()",
      "metadata": {},
      "execution_count": null,
      "outputs": []
    }
  ]
}